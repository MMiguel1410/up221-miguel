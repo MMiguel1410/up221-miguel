{
 "cells": [
  {
   "cell_type": "markdown",
   "id": "68fab5df-a316-4ed1-a37e-5367490450c2",
   "metadata": {
    "tags": []
   },
   "source": [
    "# Week 2 Assignment \n",
    "## Manipulating Data \n",
    "***\n",
    "This notebook will explore data from the California Healthy Places Index and observe what variables exist in this dataset. The Calfiornia Healthy PLaces Index combines 25 community characteristics, like access to healthcare, housing, education, and more, into a single indexed HPI score. The healthier a community, the higher the HPI score. The HPI applies a positive frame focusing on assets a community has have they can build on, rather than what is lacking.\n"
   ]
  },
  {
   "cell_type": "code",
   "execution_count": 6,
   "id": "d8f24dab-53b2-44a6-b8ac-c2a133d9877b",
   "metadata": {},
   "outputs": [],
   "source": [
    "import pandas as pd\n",
    "import geopandas as gpd"
   ]
  },
  {
   "cell_type": "code",
   "execution_count": 10,
   "id": "e8fd080a-d8ee-47ca-a5b7-7b4e0e1dba03",
   "metadata": {},
   "outputs": [
    {
     "data": {
      "text/html": [
       "<div>\n",
       "<style scoped>\n",
       "    .dataframe tbody tr th:only-of-type {\n",
       "        vertical-align: middle;\n",
       "    }\n",
       "\n",
       "    .dataframe tbody tr th {\n",
       "        vertical-align: top;\n",
       "    }\n",
       "\n",
       "    .dataframe thead th {\n",
       "        text-align: right;\n",
       "    }\n",
       "</style>\n",
       "<table border=\"1\" class=\"dataframe\">\n",
       "  <thead>\n",
       "    <tr style=\"text-align: right;\">\n",
       "      <th></th>\n",
       "      <th>geoid</th>\n",
       "      <th>name</th>\n",
       "      <th>population</th>\n",
       "      <th>value</th>\n",
       "      <th>percentile</th>\n",
       "      <th>numerator</th>\n",
       "      <th>denominator</th>\n",
       "      <th>geometry</th>\n",
       "    </tr>\n",
       "  </thead>\n",
       "  <tbody>\n",
       "    <tr>\n",
       "      <th>0</th>\n",
       "      <td>06013370000</td>\n",
       "      <td>3700</td>\n",
       "      <td>2850</td>\n",
       "      <td>0.722803679885899</td>\n",
       "      <td>0.895121951219512</td>\n",
       "      <td></td>\n",
       "      <td></td>\n",
       "      <td>None</td>\n",
       "    </tr>\n",
       "    <tr>\n",
       "      <th>1</th>\n",
       "      <td>06001442301</td>\n",
       "      <td>4423.01</td>\n",
       "      <td>5496</td>\n",
       "      <td>0.359195095892949</td>\n",
       "      <td>0.701412066752246</td>\n",
       "      <td></td>\n",
       "      <td></td>\n",
       "      <td>None</td>\n",
       "    </tr>\n",
       "    <tr>\n",
       "      <th>2</th>\n",
       "      <td>06037405101</td>\n",
       "      <td>4051.01</td>\n",
       "      <td>5617</td>\n",
       "      <td>-0.145520542461662</td>\n",
       "      <td>0.40410783055199</td>\n",
       "      <td></td>\n",
       "      <td></td>\n",
       "      <td>None</td>\n",
       "    </tr>\n",
       "    <tr>\n",
       "      <th>3</th>\n",
       "      <td>06037199800</td>\n",
       "      <td>1998</td>\n",
       "      <td>5828</td>\n",
       "      <td>-0.576625091578359</td>\n",
       "      <td>0.1801026957638</td>\n",
       "      <td></td>\n",
       "      <td></td>\n",
       "      <td>None</td>\n",
       "    </tr>\n",
       "    <tr>\n",
       "      <th>4</th>\n",
       "      <td>06037291300</td>\n",
       "      <td>2913</td>\n",
       "      <td>3037</td>\n",
       "      <td>0.221186743609454</td>\n",
       "      <td>0.616816431322208</td>\n",
       "      <td></td>\n",
       "      <td></td>\n",
       "      <td>None</td>\n",
       "    </tr>\n",
       "    <tr>\n",
       "      <th>...</th>\n",
       "      <td>...</td>\n",
       "      <td>...</td>\n",
       "      <td>...</td>\n",
       "      <td>...</td>\n",
       "      <td>...</td>\n",
       "      <td>...</td>\n",
       "      <td>...</td>\n",
       "      <td>...</td>\n",
       "    </tr>\n",
       "    <tr>\n",
       "      <th>7785</th>\n",
       "      <td>06107002202</td>\n",
       "      <td>22.02</td>\n",
       "      <td>5765</td>\n",
       "      <td>-1.05377744403647</td>\n",
       "      <td>0.0313222079589217</td>\n",
       "      <td></td>\n",
       "      <td></td>\n",
       "      <td>None</td>\n",
       "    </tr>\n",
       "    <tr>\n",
       "      <th>7786</th>\n",
       "      <td>06013351101</td>\n",
       "      <td>3511.01</td>\n",
       "      <td>2683</td>\n",
       "      <td>0.546654636656894</td>\n",
       "      <td>0.812965340179718</td>\n",
       "      <td></td>\n",
       "      <td></td>\n",
       "      <td>None</td>\n",
       "    </tr>\n",
       "    <tr>\n",
       "      <th>7787</th>\n",
       "      <td>06001408000</td>\n",
       "      <td>4080</td>\n",
       "      <td>2700</td>\n",
       "      <td>1.19595882742229</td>\n",
       "      <td>0.988831835686778</td>\n",
       "      <td></td>\n",
       "      <td></td>\n",
       "      <td>None</td>\n",
       "    </tr>\n",
       "    <tr>\n",
       "      <th>7788</th>\n",
       "      <td>06059032043</td>\n",
       "      <td>320.43</td>\n",
       "      <td>3736</td>\n",
       "      <td>0.789303262894474</td>\n",
       "      <td>0.919512195121951</td>\n",
       "      <td></td>\n",
       "      <td></td>\n",
       "      <td>None</td>\n",
       "    </tr>\n",
       "    <tr>\n",
       "      <th>7789</th>\n",
       "      <td>06081608023</td>\n",
       "      <td>6080.23</td>\n",
       "      <td>2598</td>\n",
       "      <td>0.904910894162086</td>\n",
       "      <td>0.950834403080873</td>\n",
       "      <td></td>\n",
       "      <td></td>\n",
       "      <td>None</td>\n",
       "    </tr>\n",
       "  </tbody>\n",
       "</table>\n",
       "<p>7790 rows × 8 columns</p>\n",
       "</div>"
      ],
      "text/plain": [
       "            geoid     name population               value          percentile  \\\n",
       "0     06013370000     3700       2850   0.722803679885899   0.895121951219512   \n",
       "1     06001442301  4423.01       5496   0.359195095892949   0.701412066752246   \n",
       "2     06037405101  4051.01       5617  -0.145520542461662    0.40410783055199   \n",
       "3     06037199800     1998       5828  -0.576625091578359     0.1801026957638   \n",
       "4     06037291300     2913       3037   0.221186743609454   0.616816431322208   \n",
       "...           ...      ...        ...                 ...                 ...   \n",
       "7785  06107002202    22.02       5765   -1.05377744403647  0.0313222079589217   \n",
       "7786  06013351101  3511.01       2683   0.546654636656894   0.812965340179718   \n",
       "7787  06001408000     4080       2700    1.19595882742229   0.988831835686778   \n",
       "7788  06059032043   320.43       3736   0.789303262894474   0.919512195121951   \n",
       "7789  06081608023  6080.23       2598   0.904910894162086   0.950834403080873   \n",
       "\n",
       "     numerator denominator geometry  \n",
       "0                              None  \n",
       "1                              None  \n",
       "2                              None  \n",
       "3                              None  \n",
       "4                              None  \n",
       "...        ...         ...      ...  \n",
       "7785                           None  \n",
       "7786                           None  \n",
       "7787                           None  \n",
       "7788                           None  \n",
       "7789                           None  \n",
       "\n",
       "[7790 rows x 8 columns]"
      ]
     },
     "execution_count": 10,
     "metadata": {},
     "output_type": "execute_result"
    }
   ],
   "source": [
    "# read and add csv file \n",
    "health = gpd.read_file('Data/hpi2score.csv')\n",
    "health"
   ]
  },
  {
   "cell_type": "markdown",
   "id": "49053621-af61-4cda-8551-72deba445ec2",
   "metadata": {},
   "source": [
    "***\n",
    "This (info) command will give us infomation on the dataset. This shows that msot of our data types are objects, with 7790 entries and 8 columns."
   ]
  },
  {
   "cell_type": "code",
   "execution_count": 21,
   "id": "daa80eff-2f16-4dd6-8fdc-b869fbf8a70d",
   "metadata": {},
   "outputs": [
    {
     "name": "stdout",
     "output_type": "stream",
     "text": [
      "<class 'geopandas.geodataframe.GeoDataFrame'>\n",
      "RangeIndex: 7790 entries, 0 to 7789\n",
      "Data columns (total 8 columns):\n",
      " #   Column       Non-Null Count  Dtype   \n",
      "---  ------       --------------  -----   \n",
      " 0   geoid        7790 non-null   object  \n",
      " 1   name         7790 non-null   object  \n",
      " 2   population   7790 non-null   object  \n",
      " 3   value        7790 non-null   object  \n",
      " 4   percentile   7790 non-null   object  \n",
      " 5   numerator    7790 non-null   object  \n",
      " 6   denominator  7790 non-null   object  \n",
      " 7   geometry     0 non-null      geometry\n",
      "dtypes: geometry(1), object(7)\n",
      "memory usage: 487.0+ KB\n"
     ]
    }
   ],
   "source": [
    "health.info() "
   ]
  },
  {
   "cell_type": "markdown",
   "id": "4a830405-9b9d-471b-9016-8f2d60a8718c",
   "metadata": {},
   "source": [
    "***\n",
    "To know how many rows and columns we have we can execute the (.shape) command. From this command we see we have 7790 rows and 8 columns."
   ]
  },
  {
   "cell_type": "code",
   "execution_count": null,
   "id": "a307b38e-30bb-46bf-b3c2-5500f3086db1",
   "metadata": {},
   "outputs": [
    {
     "data": {
      "text/plain": [
       "(7790, 8)"
      ]
     },
     "execution_count": 12,
     "metadata": {},
     "output_type": "execute_result"
    }
   ],
   "source": [
    "health.shape "
   ]
  },
  {
   "cell_type": "markdown",
   "id": "b9fabd0a-e7f8-4376-bf26-ff92bccf8550",
   "metadata": {},
   "source": [
    "***\n",
    "Now we can even identify the columns and their labels in a list format. Take a look that their is a geoid and name. Geoid is another format similar to lat and long, but the calculation and Earth projection is different. Also in this dataset it is important to Note that the 'name' is actually the Census tracts."
   ]
  },
  {
   "cell_type": "code",
   "execution_count": 18,
   "id": "30f018db-62dd-4e25-bbd3-241800368da9",
   "metadata": {},
   "outputs": [
    {
     "data": {
      "text/plain": [
       "['geoid',\n",
       " 'name',\n",
       " 'population',\n",
       " 'value',\n",
       " 'percentile',\n",
       " 'numerator',\n",
       " 'denominator',\n",
       " 'geometry']"
      ]
     },
     "execution_count": 18,
     "metadata": {},
     "output_type": "execute_result"
    }
   ],
   "source": [
    "health.columns.to_list()"
   ]
  },
  {
   "cell_type": "markdown",
   "id": "b6797356-8f87-40f1-bfcd-923b5be216a1",
   "metadata": {},
   "source": [
    "***\n",
    "Although we ran the info command, it does not let us see the data in a clear format. when we run the .head command we can see that now the data is displayed nicely with headers. "
   ]
  },
  {
   "cell_type": "code",
   "execution_count": 20,
   "id": "394a1954-278d-4880-85b6-7c0cc2412bc3",
   "metadata": {},
   "outputs": [
    {
     "data": {
      "text/html": [
       "<div>\n",
       "<style scoped>\n",
       "    .dataframe tbody tr th:only-of-type {\n",
       "        vertical-align: middle;\n",
       "    }\n",
       "\n",
       "    .dataframe tbody tr th {\n",
       "        vertical-align: top;\n",
       "    }\n",
       "\n",
       "    .dataframe thead th {\n",
       "        text-align: right;\n",
       "    }\n",
       "</style>\n",
       "<table border=\"1\" class=\"dataframe\">\n",
       "  <thead>\n",
       "    <tr style=\"text-align: right;\">\n",
       "      <th></th>\n",
       "      <th>geoid</th>\n",
       "      <th>name</th>\n",
       "      <th>population</th>\n",
       "      <th>value</th>\n",
       "      <th>percentile</th>\n",
       "      <th>numerator</th>\n",
       "      <th>denominator</th>\n",
       "      <th>geometry</th>\n",
       "    </tr>\n",
       "  </thead>\n",
       "  <tbody>\n",
       "    <tr>\n",
       "      <th>0</th>\n",
       "      <td>06013370000</td>\n",
       "      <td>3700</td>\n",
       "      <td>2850</td>\n",
       "      <td>0.722803679885899</td>\n",
       "      <td>0.895121951219512</td>\n",
       "      <td></td>\n",
       "      <td></td>\n",
       "      <td>None</td>\n",
       "    </tr>\n",
       "    <tr>\n",
       "      <th>1</th>\n",
       "      <td>06001442301</td>\n",
       "      <td>4423.01</td>\n",
       "      <td>5496</td>\n",
       "      <td>0.359195095892949</td>\n",
       "      <td>0.701412066752246</td>\n",
       "      <td></td>\n",
       "      <td></td>\n",
       "      <td>None</td>\n",
       "    </tr>\n",
       "    <tr>\n",
       "      <th>2</th>\n",
       "      <td>06037405101</td>\n",
       "      <td>4051.01</td>\n",
       "      <td>5617</td>\n",
       "      <td>-0.145520542461662</td>\n",
       "      <td>0.40410783055199</td>\n",
       "      <td></td>\n",
       "      <td></td>\n",
       "      <td>None</td>\n",
       "    </tr>\n",
       "    <tr>\n",
       "      <th>3</th>\n",
       "      <td>06037199800</td>\n",
       "      <td>1998</td>\n",
       "      <td>5828</td>\n",
       "      <td>-0.576625091578359</td>\n",
       "      <td>0.1801026957638</td>\n",
       "      <td></td>\n",
       "      <td></td>\n",
       "      <td>None</td>\n",
       "    </tr>\n",
       "    <tr>\n",
       "      <th>4</th>\n",
       "      <td>06037291300</td>\n",
       "      <td>2913</td>\n",
       "      <td>3037</td>\n",
       "      <td>0.221186743609454</td>\n",
       "      <td>0.616816431322208</td>\n",
       "      <td></td>\n",
       "      <td></td>\n",
       "      <td>None</td>\n",
       "    </tr>\n",
       "  </tbody>\n",
       "</table>\n",
       "</div>"
      ],
      "text/plain": [
       "         geoid     name population               value         percentile  \\\n",
       "0  06013370000     3700       2850   0.722803679885899  0.895121951219512   \n",
       "1  06001442301  4423.01       5496   0.359195095892949  0.701412066752246   \n",
       "2  06037405101  4051.01       5617  -0.145520542461662   0.40410783055199   \n",
       "3  06037199800     1998       5828  -0.576625091578359    0.1801026957638   \n",
       "4  06037291300     2913       3037   0.221186743609454  0.616816431322208   \n",
       "\n",
       "  numerator denominator geometry  \n",
       "0                           None  \n",
       "1                           None  \n",
       "2                           None  \n",
       "3                           None  \n",
       "4                           None  "
      ]
     },
     "execution_count": 20,
     "metadata": {},
     "output_type": "execute_result"
    }
   ],
   "source": [
    "health.head()"
   ]
  },
  {
   "cell_type": "markdown",
   "id": "8e9c456e-057a-4254-9a29-388886051957",
   "metadata": {},
   "source": [
    "***\n",
    "Now, this data uses an index to determine the health score of different census tracts. What if we wanted to know how many times a certain score was reported in the dataset. We run into some trouble when running a count becasue these values don't really tell us much for an analysis or even where they are located without other variables. "
   ]
  },
  {
   "cell_type": "code",
   "execution_count": 53,
   "id": "6b118b2b-1204-428d-b424-1a6c55298631",
   "metadata": {},
   "outputs": [
    {
     "data": {
      "text/plain": [
       "0.895121951219512    1\n",
       "0.660205391527599    1\n",
       "0.911039794608472    1\n",
       "0.52400513478819     1\n",
       "0.397432605905006    1\n",
       "                    ..\n",
       "0.26392811296534     1\n",
       "0.223363286264442    1\n",
       "0.851091142490372    1\n",
       "0.952888318356868    1\n",
       "0.950834403080873    1\n",
       "Name: percentile, Length: 7790, dtype: int64"
      ]
     },
     "execution_count": 53,
     "metadata": {},
     "output_type": "execute_result"
    }
   ],
   "source": [
    "health['percentile'].value_counts() "
   ]
  },
  {
   "cell_type": "markdown",
   "id": "bdb0a122-412e-4fc5-8f91-27b70c300d4a",
   "metadata": {},
   "source": [
    "***\n",
    "We run into a similar problem when trying to run this plot. That is why we may have to find a different format of data that is not a csv. When we try to plot you can see that there is no georeference data even though there is a geoid. However, I am not sure if the geopandas library is enough to map that since right now we are only having an empty plot. We may need to trim our data. "
   ]
  },
  {
   "cell_type": "code",
   "execution_count": 52,
   "id": "6c2baca7-e19b-4443-a6f5-b15f1580b8f1",
   "metadata": {},
   "outputs": [
    {
     "data": {
      "text/plain": [
       "<AxesSubplot: >"
      ]
     },
     "execution_count": 52,
     "metadata": {},
     "output_type": "execute_result"
    },
    {
     "data": {
      "image/png": "[encoded data removed]",
      "text/plain": [
       "<Figure size 640x480 with 1 Axes>"
      ]
     },
     "metadata": {},
     "output_type": "display_data"
    }
   ],
   "source": [
    "health.plot()"
   ]
  },
  {
   "cell_type": "markdown",
   "id": "0bf8231f-0ba7-4e83-9bad-91c93d95f38e",
   "metadata": {},
   "source": [
    "***\n",
    "I want to show that using this query there is at least some potential as we can see that loooking for census tracts with a low percentile show an unhealthy region along with a census tract and the number of people (population within them)"
   ]
  },
  {
   "cell_type": "code",
   "execution_count": 61,
   "id": "67592913-b78c-4585-81e1-4efeb1de2270",
   "metadata": {},
   "outputs": [
    {
     "data": {
      "text/html": [
       "<div>\n",
       "<style scoped>\n",
       "    .dataframe tbody tr th:only-of-type {\n",
       "        vertical-align: middle;\n",
       "    }\n",
       "\n",
       "    .dataframe tbody tr th {\n",
       "        vertical-align: top;\n",
       "    }\n",
       "\n",
       "    .dataframe thead th {\n",
       "        text-align: right;\n",
       "    }\n",
       "</style>\n",
       "<table border=\"1\" class=\"dataframe\">\n",
       "  <thead>\n",
       "    <tr style=\"text-align: right;\">\n",
       "      <th></th>\n",
       "      <th>geoid</th>\n",
       "      <th>name</th>\n",
       "      <th>population</th>\n",
       "      <th>value</th>\n",
       "      <th>percentile</th>\n",
       "      <th>numerator</th>\n",
       "      <th>denominator</th>\n",
       "      <th>geometry</th>\n",
       "    </tr>\n",
       "  </thead>\n",
       "  <tbody>\n",
       "    <tr>\n",
       "      <th>1478</th>\n",
       "      <td>06047002201</td>\n",
       "      <td>22.01</td>\n",
       "      <td>6249</td>\n",
       "      <td>-0.769034463684689</td>\n",
       "      <td>0.1</td>\n",
       "      <td></td>\n",
       "      <td></td>\n",
       "      <td>None</td>\n",
       "    </tr>\n",
       "  </tbody>\n",
       "</table>\n",
       "</div>"
      ],
      "text/plain": [
       "            geoid   name population               value percentile numerator  \\\n",
       "1478  06047002201  22.01       6249  -0.769034463684689        0.1             \n",
       "\n",
       "     denominator geometry  \n",
       "1478                 None  "
      ]
     },
     "execution_count": 61,
     "metadata": {},
     "output_type": "execute_result"
    }
   ],
   "source": [
    "health[health.percentile == '0.1']"
   ]
  }
 ],
 "metadata": {
  "kernelspec": {
   "display_name": "Python 3 (ipykernel)",
   "language": "python",
   "name": "python3"
  },
  "language_info": {
   "codemirror_mode": {
    "name": "ipython",
    "version": 3
   },
   "file_extension": ".py",
   "mimetype": "text/x-python",
   "name": "python",
   "nbconvert_exporter": "python",
   "pygments_lexer": "ipython3",
   "version": "3.10.8"
  }
 },
 "nbformat": 4,
 "nbformat_minor": 5
}
