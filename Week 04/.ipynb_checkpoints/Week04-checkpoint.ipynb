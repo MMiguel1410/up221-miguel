{
 "cells": [
  {
   "cell_type": "code",
   "execution_count": 1,
   "id": "48057a15-f84a-4938-b9a1-f4b2006e8390",
   "metadata": {},
   "outputs": [],
   "source": [
    "import geopandas as gpd\n",
    "import pandas as pd\n",
    "import osmnx as ox\n",
    "import plotly.express as px\n",
    "import contextily as ctx\n",
    "import matplotlib.pyplot as plt"
   ]
  },
  {
   "cell_type": "markdown",
   "id": "968a130f-a6b9-4689-9049-0e6486940415",
   "metadata": {},
   "source": [
    "# Manufactured Homes in the United States\n",
    "Manufactured homes are an alternative form of homeownership that could allow for a new opportunity for marginalized communities trying to enter the home market. Unfortunately, manufactured home lending is equally restrictive as single family homes but we do not understand to what extent. Land plays a crucial role for manfucature home lenders since two loans exist, a loan for the home and the land it sits on or a loan for the home but not the land. This dichotomoy "
   ]
  },
  {
   "cell_type": "code",
   "execution_count": 2,
   "id": "c674770e-afd4-48f2-90d0-8dc5a578f66e",
   "metadata": {},
   "outputs": [],
   "source": [
    "df =pd.read_csv(\n",
    "    'Data/Mobile Homes.csv',\n",
    "    dtype=\n",
    "    {\n",
    "        'census_tract':str,\n",
    "        'FIPS':str\n",
    "    }\n",
    ")"
   ]
  },
  {
   "cell_type": "code",
   "execution_count": 3,
   "id": "a97eba4a-d172-43a1-bb30-0eb46f68d978",
   "metadata": {},
   "outputs": [],
   "source": [
    "pd.set_option('display.max_columns', None)\n",
    "pd.set_option('display.max_rows', None)"
   ]
  },
  {
   "cell_type": "code",
   "execution_count": 4,
   "id": "291c1328-57d5-4142-a755-1c7ceda46993",
   "metadata": {},
   "outputs": [
    {
     "data": {
      "text/plain": [
       "(3242, 10)"
      ]
     },
     "execution_count": 4,
     "metadata": {},
     "output_type": "execute_result"
    }
   ],
   "source": [
    "df.shape"
   ]
  },
  {
   "cell_type": "code",
   "execution_count": 5,
   "id": "18063db2-5cd7-4422-adc7-482b2d7391f2",
   "metadata": {},
   "outputs": [
    {
     "name": "stdout",
     "output_type": "stream",
     "text": [
      "<class 'pandas.core.frame.DataFrame'>\n",
      "RangeIndex: 3242 entries, 0 to 3241\n",
      "Data columns (total 10 columns):\n",
      " #   Column                            Non-Null Count  Dtype  \n",
      "---  ------                            --------------  -----  \n",
      " 0   activity_year                     3242 non-null   int64  \n",
      " 1   census_tract                      3242 non-null   object \n",
      " 2   manufactured_home_secured_proper  3242 non-null   int64  \n",
      " 3   manufactured_home_land_property_  3242 non-null   int64  \n",
      " 4   race                              3242 non-null   int64  \n",
      " 5   age                               3242 non-null   int64  \n",
      " 6   white_pop                         3242 non-null   float64\n",
      " 7   census_income                     3242 non-null   float64\n",
      " 8   loan_outcome                      3242 non-null   int64  \n",
      " 9   FIPS                              3242 non-null   object \n",
      "dtypes: float64(2), int64(6), object(2)\n",
      "memory usage: 253.4+ KB\n"
     ]
    }
   ],
   "source": [
    "df.info(verbose=True, show_counts=True)"
   ]
  },
  {
   "cell_type": "code",
   "execution_count": 6,
   "id": "565a4068-5cf5-47ba-9d0a-d72dc187a506",
   "metadata": {},
   "outputs": [
    {
     "data": {
      "text/html": [
       "<div>\n",
       "<style scoped>\n",
       "    .dataframe tbody tr th:only-of-type {\n",
       "        vertical-align: middle;\n",
       "    }\n",
       "\n",
       "    .dataframe tbody tr th {\n",
       "        vertical-align: top;\n",
       "    }\n",
       "\n",
       "    .dataframe thead th {\n",
       "        text-align: right;\n",
       "    }\n",
       "</style>\n",
       "<table border=\"1\" class=\"dataframe\">\n",
       "  <thead>\n",
       "    <tr style=\"text-align: right;\">\n",
       "      <th></th>\n",
       "      <th>index</th>\n",
       "      <th>loan_outcome</th>\n",
       "    </tr>\n",
       "  </thead>\n",
       "  <tbody>\n",
       "    <tr>\n",
       "      <th>0</th>\n",
       "      <td>3</td>\n",
       "      <td>1705</td>\n",
       "    </tr>\n",
       "    <tr>\n",
       "      <th>1</th>\n",
       "      <td>2</td>\n",
       "      <td>1215</td>\n",
       "    </tr>\n",
       "    <tr>\n",
       "      <th>2</th>\n",
       "      <td>1</td>\n",
       "      <td>322</td>\n",
       "    </tr>\n",
       "  </tbody>\n",
       "</table>\n",
       "</div>"
      ],
      "text/plain": [
       "   index  loan_outcome\n",
       "0      3          1705\n",
       "1      2          1215\n",
       "2      1           322"
      ]
     },
     "execution_count": 6,
     "metadata": {},
     "output_type": "execute_result"
    }
   ],
   "source": [
    "loan_outcome=df['loan_outcome'].value_counts()\n",
    "loan_outcome=loan_outcome.reset_index()\n",
    "loan_outcome"
   ]
  },
  {
   "cell_type": "code",
   "execution_count": 7,
   "id": "2c4ee59b-aa74-4004-aecf-1f6c6ace45d0",
   "metadata": {},
   "outputs": [
    {
     "data": {
      "text/html": [
       "<div>\n",
       "<style scoped>\n",
       "    .dataframe tbody tr th:only-of-type {\n",
       "        vertical-align: middle;\n",
       "    }\n",
       "\n",
       "    .dataframe tbody tr th {\n",
       "        vertical-align: top;\n",
       "    }\n",
       "\n",
       "    .dataframe thead th {\n",
       "        text-align: right;\n",
       "    }\n",
       "</style>\n",
       "<table border=\"1\" class=\"dataframe\">\n",
       "  <thead>\n",
       "    <tr style=\"text-align: right;\">\n",
       "      <th></th>\n",
       "      <th>loan outcome</th>\n",
       "      <th>count</th>\n",
       "    </tr>\n",
       "  </thead>\n",
       "  <tbody>\n",
       "    <tr>\n",
       "      <th>0</th>\n",
       "      <td>3</td>\n",
       "      <td>1705</td>\n",
       "    </tr>\n",
       "    <tr>\n",
       "      <th>1</th>\n",
       "      <td>2</td>\n",
       "      <td>1215</td>\n",
       "    </tr>\n",
       "    <tr>\n",
       "      <th>2</th>\n",
       "      <td>1</td>\n",
       "      <td>322</td>\n",
       "    </tr>\n",
       "  </tbody>\n",
       "</table>\n",
       "</div>"
      ],
      "text/plain": [
       "   loan outcome  count\n",
       "0             3   1705\n",
       "1             2   1215\n",
       "2             1    322"
      ]
     },
     "execution_count": 7,
     "metadata": {},
     "output_type": "execute_result"
    }
   ],
   "source": [
    "loan_outcome.columns = ['loan outcome', 'count']\n",
    "loan_outcome"
   ]
  },
  {
   "cell_type": "code",
   "execution_count": 8,
   "id": "2314fe12-22bc-4d68-af18-5d5022a9e4e9",
   "metadata": {},
   "outputs": [
    {
     "data": {
      "text/plain": [
       "<AxesSubplot: title={'center': 'Manufactured Home Loan Outcomes'}, xlabel='loan outcome'>"
      ]
     },
     "execution_count": 8,
     "metadata": {},
     "output_type": "execute_result"
    },
    {
     "data": {
      "image/png": "[encoded data removed]",
      "text/plain": [
       "<Figure size 640x480 with 1 Axes>"
      ]
     },
     "metadata": {},
     "output_type": "display_data"
    }
   ],
   "source": [
    "loan_outcome.plot.bar(x='loan outcome', y='count',title='Manufactured Home Loan Outcomes')"
   ]
  },
  {
   "cell_type": "code",
   "execution_count": 9,
   "id": "aa755694-86af-40e3-85ec-bd0d17983f6e",
   "metadata": {},
   "outputs": [],
   "source": [
    "def loan_label(row):\n",
    "    if row['loan_outcome'] ==1:\n",
    "        val = 'Loan Origination'\n",
    "    elif row['loan_outcome'] ==2:\n",
    "        val = 'High Cost Loan'\n",
    "    else:\n",
    "        val = 'Loan Denial'\n",
    "    return val\n",
    "\n",
    "df['loan_outcome'] = df.apply(loan_label, axis=1)"
   ]
  },
  {
   "cell_type": "code",
   "execution_count": 10,
   "id": "8d93fbf7-8df9-4363-913f-36712d2074f5",
   "metadata": {},
   "outputs": [
    {
     "data": {
      "text/html": [
       "<div>\n",
       "<style scoped>\n",
       "    .dataframe tbody tr th:only-of-type {\n",
       "        vertical-align: middle;\n",
       "    }\n",
       "\n",
       "    .dataframe tbody tr th {\n",
       "        vertical-align: top;\n",
       "    }\n",
       "\n",
       "    .dataframe thead th {\n",
       "        text-align: right;\n",
       "    }\n",
       "</style>\n",
       "<table border=\"1\" class=\"dataframe\">\n",
       "  <thead>\n",
       "    <tr style=\"text-align: right;\">\n",
       "      <th></th>\n",
       "      <th>index</th>\n",
       "      <th>loan_outcome</th>\n",
       "    </tr>\n",
       "  </thead>\n",
       "  <tbody>\n",
       "    <tr>\n",
       "      <th>0</th>\n",
       "      <td>Loan Denial</td>\n",
       "      <td>1705</td>\n",
       "    </tr>\n",
       "    <tr>\n",
       "      <th>1</th>\n",
       "      <td>High Cost Loan</td>\n",
       "      <td>1215</td>\n",
       "    </tr>\n",
       "    <tr>\n",
       "      <th>2</th>\n",
       "      <td>Loan Origination</td>\n",
       "      <td>322</td>\n",
       "    </tr>\n",
       "  </tbody>\n",
       "</table>\n",
       "</div>"
      ],
      "text/plain": [
       "              index  loan_outcome\n",
       "0       Loan Denial          1705\n",
       "1    High Cost Loan          1215\n",
       "2  Loan Origination           322"
      ]
     },
     "execution_count": 10,
     "metadata": {},
     "output_type": "execute_result"
    }
   ],
   "source": [
    "loan_outcome=df['loan_outcome'].value_counts()\n",
    "loan_outcome=loan_outcome.reset_index()\n",
    "loan_outcome"
   ]
  },
  {
   "cell_type": "code",
   "execution_count": 11,
   "id": "1e3cedc2-8bf7-400d-acb2-e3014d7802e9",
   "metadata": {},
   "outputs": [
    {
     "data": {
      "text/html": [
       "<div>\n",
       "<style scoped>\n",
       "    .dataframe tbody tr th:only-of-type {\n",
       "        vertical-align: middle;\n",
       "    }\n",
       "\n",
       "    .dataframe tbody tr th {\n",
       "        vertical-align: top;\n",
       "    }\n",
       "\n",
       "    .dataframe thead th {\n",
       "        text-align: right;\n",
       "    }\n",
       "</style>\n",
       "<table border=\"1\" class=\"dataframe\">\n",
       "  <thead>\n",
       "    <tr style=\"text-align: right;\">\n",
       "      <th></th>\n",
       "      <th>loan outcome</th>\n",
       "      <th>count</th>\n",
       "    </tr>\n",
       "  </thead>\n",
       "  <tbody>\n",
       "    <tr>\n",
       "      <th>0</th>\n",
       "      <td>Loan Denial</td>\n",
       "      <td>1705</td>\n",
       "    </tr>\n",
       "    <tr>\n",
       "      <th>1</th>\n",
       "      <td>High Cost Loan</td>\n",
       "      <td>1215</td>\n",
       "    </tr>\n",
       "    <tr>\n",
       "      <th>2</th>\n",
       "      <td>Loan Origination</td>\n",
       "      <td>322</td>\n",
       "    </tr>\n",
       "  </tbody>\n",
       "</table>\n",
       "</div>"
      ],
      "text/plain": [
       "       loan outcome  count\n",
       "0       Loan Denial   1705\n",
       "1    High Cost Loan   1215\n",
       "2  Loan Origination    322"
      ]
     },
     "execution_count": 11,
     "metadata": {},
     "output_type": "execute_result"
    }
   ],
   "source": [
    "loan_outcome.columns = ['loan outcome', 'count']\n",
    "loan_outcome"
   ]
  },
  {
   "cell_type": "code",
   "execution_count": 12,
   "id": "9263d82a-2a3d-453a-b5c4-686307bb75a0",
   "metadata": {},
   "outputs": [
    {
     "data": {
      "text/plain": [
       "<AxesSubplot: title={'center': 'Manufactured Home Loan Outcomes'}, xlabel='loan outcome'>"
      ]
     },
     "execution_count": 12,
     "metadata": {},
     "output_type": "execute_result"
    },
    {
     "data": {
      "image/png": "[encoded data removed]",
      "text/plain": [
       "<Figure size 640x480 with 1 Axes>"
      ]
     },
     "metadata": {},
     "output_type": "display_data"
    }
   ],
   "source": [
    "loan_outcome.plot.bar(x='loan outcome', y='count',title='Manufactured Home Loan Outcomes')"
   ]
  },
  {
   "cell_type": "code",
   "execution_count": null,
   "id": "478d60d9-29fe-482c-b513-9bdcd80f67ad",
   "metadata": {},
   "outputs": [],
   "source": []
  }
 ],
 "metadata": {
  "kernelspec": {
   "display_name": "Python 3 (ipykernel)",
   "language": "python",
   "name": "python3"
  },
  "language_info": {
   "codemirror_mode": {
    "name": "ipython",
    "version": 3
   },
   "file_extension": ".py",
   "mimetype": "text/x-python",
   "name": "python",
   "nbconvert_exporter": "python",
   "pygments_lexer": "ipython3",
   "version": "3.10.8"
  }
 },
 "nbformat": 4,
 "nbformat_minor": 5
}
